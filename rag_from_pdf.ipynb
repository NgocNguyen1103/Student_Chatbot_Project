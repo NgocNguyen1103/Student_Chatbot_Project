{
 "cells": [
  {
   "cell_type": "markdown",
   "id": "cc270b20",
   "metadata": {},
   "source": [
    "# PDF + HuggingFace + LangChain"
   ]
  },
  {
   "cell_type": "code",
   "execution_count": 1,
   "id": "5bc38540",
   "metadata": {},
   "outputs": [
    {
     "name": "stderr",
     "output_type": "stream",
     "text": [
      "d:\\B3\\Internship\\Project\\Chat Model\\venv\\Lib\\site-packages\\tqdm\\auto.py:21: TqdmWarning: IProgress not found. Please update jupyter and ipywidgets. See https://ipywidgets.readthedocs.io/en/stable/user_install.html\n",
      "  from .autonotebook import tqdm as notebook_tqdm\n"
     ]
    }
   ],
   "source": [
    "\n",
    "from langchain_community.document_loaders import PyPDFLoader\n",
    "from langchain.text_splitter import RecursiveCharacterTextSplitter\n",
    "from langchain.vectorstores import Chroma\n",
    "from langchain.embeddings import HuggingFaceEmbeddings\n",
    "from langchain.llms import HuggingFacePipeline\n",
    "from langchain.chains import ConversationalRetrievalChain\n",
    "from langchain.memory import ConversationBufferMemory\n",
    "from langchain.prompts import PromptTemplate\n",
    "\n",
    "from transformers import AutoTokenizer, AutoModelForSeq2SeqLM, pipeline\n",
    "from pathlib import Path\n",
    "import os\n"
   ]
  },
  {
   "cell_type": "code",
   "execution_count": 2,
   "id": "57ed42b5",
   "metadata": {},
   "outputs": [
    {
     "name": "stdout",
     "output_type": "stream",
     "text": [
      "Loaded 4 documents\n"
     ]
    }
   ],
   "source": [
    "\n",
    "def load_all_pdfs_from_folder(folder_path):\n",
    "    pdf_files = list(Path(folder_path).rglob(\"*.pdf\"))\n",
    "    all_docs = []\n",
    "    for pdf_file in pdf_files:\n",
    "        loader = PyPDFLoader(str(pdf_file))\n",
    "        docs = loader.load()\n",
    "        all_docs.extend(docs)\n",
    "    return all_docs\n",
    "\n",
    "folder_path = \"./data\"  # 📂 thư mục chứa các file PDF\n",
    "documents = load_all_pdfs_from_folder(folder_path)\n",
    "print(f\"Loaded {len(documents)} documents\")\n"
   ]
  },
  {
   "cell_type": "code",
   "execution_count": 3,
   "id": "22b5228a",
   "metadata": {},
   "outputs": [
    {
     "name": "stdout",
     "output_type": "stream",
     "text": [
      "Split into 15 chunks\n"
     ]
    }
   ],
   "source": [
    "\n",
    "text_splitter = RecursiveCharacterTextSplitter(chunk_size=500, chunk_overlap=50, separators=[\"\\n\\n\", \"\\n\", \". \", \" \", \"\"])\n",
    "chunks = text_splitter.split_documents(documents)\n",
    "print(f\"Split into {len(chunks)} chunks\")\n"
   ]
  },
  {
   "cell_type": "code",
   "execution_count": 4,
   "id": "8dcb2022",
   "metadata": {},
   "outputs": [
    {
     "name": "stdout",
     "output_type": "stream",
     "text": [
      "page_content='Bachelor in ICT Program\n",
      "1. PROGRAM INTRODUCTION\n",
      "The ICT formation in USTH prepares graduates for careers in the fields of\n",
      "Software Engineering and Computer Science. It focuses on applied research\n",
      "and emerging technologies. The ICT program equips students with the\n",
      "fundamental understanding of computing and system administration, then\n",
      "the professional knowledge of information systems, advanced databases,\n",
      "and eventually management of projects.' metadata={'producer': 'WeasyPrint 53.3', 'creator': 'PyPDF', 'creationdate': '', 'source': 'data\\\\usth_ict_program.pdf', 'total_pages': 4, 'page': 0, 'page_label': '1'}\n"
     ]
    }
   ],
   "source": [
    "print(chunks[0])"
   ]
  },
  {
   "cell_type": "code",
   "execution_count": 5,
   "id": "90edf8ae",
   "metadata": {},
   "outputs": [
    {
     "name": "stdout",
     "output_type": "stream",
     "text": [
      "page_content='Bachelor in ICT Program\n",
      "1. PROGRAM INTRODUCTION\n",
      "The ICT formation in USTH prepares graduates for careers in the fields of\n",
      "Software Engineering and Computer Science. It focuses on applied research\n",
      "and emerging technologies. The ICT program equips students with the\n",
      "fundamental understanding of computing and system administration, then\n",
      "the professional knowledge of information systems, advanced databases,\n",
      "and eventually management of projects.' metadata={'producer': 'WeasyPrint 53.3', 'creator': 'PyPDF', 'creationdate': '', 'source': 'data\\\\usth_ict_program.pdf', 'total_pages': 4, 'page': 0, 'page_label': '1'}\n",
      "_________\n",
      "page_content='and eventually management of projects.\n",
      "After graduation, ICT students process a solid foundation in mathematics,\n",
      "informatics, software engineering, and communication. They also have core\n",
      "knowledge of computer science for higher education. Additionally, students\n",
      "can specialize in particular areas such as mobile and web development,\n",
      "security and system, and data mining.\n",
      "Besides, the formation aims to train them capable of working effectively in' metadata={'producer': 'WeasyPrint 53.3', 'creator': 'PyPDF', 'creationdate': '', 'source': 'data\\\\usth_ict_program.pdf', 'total_pages': 4, 'page': 0, 'page_label': '1'}\n",
      "_________\n",
      "page_content='multidisciplinary teams and in an international environment; taking\n",
      "appropriate positions in the industry upon graduation and growing into\n",
      "leadership positions, and also pursuing scientific research or higher\n",
      "education.\n",
      "2. PROGRAM CURRICULUM\n",
      "The ICT curriculum provides a solid foundation in mathematics, informatics,\n",
      "software engineering, and communication. The program also builds a core of\n",
      "computer science for higher education. Additionally, students can specialize' metadata={'producer': 'WeasyPrint 53.3', 'creator': 'PyPDF', 'creationdate': '', 'source': 'data\\\\usth_ict_program.pdf', 'total_pages': 4, 'page': 0, 'page_label': '1'}\n",
      "_________\n",
      "page_content='4.CAREER OPPORTUNITIES\n",
      "The range of occupational ICT pathways continues to expand as ICT\n",
      "technology penetrates more and more aspects of daily life. Moreover, other\n",
      "science technologies currently require ICT as a tool for development.\n",
      "Common areas of work for ICT graduates include software engineering and\n",
      "programming for web and mobile platforms; systems analysis and\n",
      "administration; multimedia development and processing.\n",
      "Employment opportunities for ICT graduates are very strong due to the high' metadata={'producer': 'WeasyPrint 53.3', 'creator': 'PyPDF', 'creationdate': '', 'source': 'data\\\\usth_ict_program.pdf', 'total_pages': 4, 'page': 3, 'page_label': '4'}\n",
      "_________\n",
      "page_content='demand in the industrial sector. The ICT industry did not succumb to the\n",
      "effects of the recent Global Financial Crisis as compared with many other\n",
      "sectors. Furthermore, many ICT start-up projects in Vietnam have received\n",
      "strong support and large investments from the government or national and\n",
      "international companies.\n",
      "Besides the possibility of finding a job after graduation, ICT students have\n",
      "enough competencies to pursue higher education in Vietnamese universities' metadata={'producer': 'WeasyPrint 53.3', 'creator': 'PyPDF', 'creationdate': '', 'source': 'data\\\\usth_ict_program.pdf', 'total_pages': 4, 'page': 3, 'page_label': '4'}\n",
      "_________\n",
      "page_content='or go abroad to study in high-quality international universities. The\n",
      "specialization in Computer Science in the ICT pathway gives the core based\n",
      "on which students can grow into specialized researchers.\n",
      "5. CONTACT INFORMATION\n",
      "– About the training program:\n",
      "Department of Information and Communication Technology (ICT)\n",
      "Tel: (+84-24) 32 12 18 01\n",
      "Email:ict_dept@usth.edu.vn\n",
      "Add: Room 408, 4th floor, A21 building, University of Science and\n",
      "Technology of Hanoi\n",
      "– About Admission:' metadata={'producer': 'WeasyPrint 53.3', 'creator': 'PyPDF', 'creationdate': '', 'source': 'data\\\\usth_ict_program.pdf', 'total_pages': 4, 'page': 3, 'page_label': '4'}\n",
      "_________\n"
     ]
    }
   ],
   "source": [
    "for chunk in chunks:\n",
    "    if 'ICT' in chunk.page_content:\n",
    "        print(chunk)\n",
    "        print(\"_________\")"
   ]
  },
  {
   "cell_type": "code",
   "execution_count": 7,
   "id": "c5d387df",
   "metadata": {},
   "outputs": [
    {
     "name": "stderr",
     "output_type": "stream",
     "text": [
      "C:\\Users\\DELL\\AppData\\Local\\Temp\\ipykernel_12768\\2241561879.py:8: LangChainDeprecationWarning: The class `Chroma` was deprecated in LangChain 0.2.9 and will be removed in 1.0. An updated version of the class exists in the :class:`~langchain-chroma package and should be used instead. To use it run `pip install -U :class:`~langchain-chroma` and import as `from :class:`~langchain_chroma import Chroma``.\n",
      "  vectorstore = Chroma(persist_directory=persist_dir, embedding_function=embedding_model)\n"
     ]
    }
   ],
   "source": [
    "\n",
    "embedding_model = HuggingFaceEmbeddings(model_name=\"sentence-transformers/all-MiniLM-L6-v2\")\n",
    "persist_dir = \"./chroma_pdf_db\"\n",
    "\n",
    "if not os.path.exists(persist_dir):\n",
    "    vectorstore = Chroma.from_documents(chunks, embedding=embedding_model, persist_directory=persist_dir)\n",
    "    vectorstore.persist()\n",
    "else:\n",
    "    vectorstore = Chroma(persist_directory=persist_dir, embedding_function=embedding_model)\n",
    "\n",
    "retriever = vectorstore.as_retriever()\n"
   ]
  },
  {
   "cell_type": "code",
   "execution_count": 9,
   "id": "7f290539",
   "metadata": {},
   "outputs": [
    {
     "name": "stdout",
     "output_type": "stream",
     "text": [
      "Collection(name=langchain)\n",
      "The vectors have 384 dimensions\n"
     ]
    }
   ],
   "source": [
    "#print(vectorstore._collection.count())\n",
    "collection  = vectorstore._collection\n",
    "sample_embedding = collection.get(limit=1, include=[\"embeddings\"])[\"embeddings\"][0]\n",
    "print(vectorstore._collection)\n",
    "# Kiểm tra số chiều (số phần tử trong vector)\n",
    "dimensions = len(sample_embedding)\n",
    "print(f\"The vectors have {dimensions:,} dimensions\")"
   ]
  },
  {
   "cell_type": "code",
   "execution_count": null,
   "id": "5715f42e",
   "metadata": {},
   "outputs": [
    {
     "data": {
      "text/plain": [
       "array([-6.22113198e-02,  5.80043606e-02,  4.63337526e-02, -4.63679992e-02,\n",
       "       -2.97737923e-02, -5.56303784e-02,  4.90446016e-02,  2.17754114e-02,\n",
       "       -3.69764157e-02,  3.05962302e-02, -1.27523288e-01, -5.88759594e-02,\n",
       "        1.20368756e-01, -7.87599161e-02, -9.57339443e-03, -1.99690163e-02,\n",
       "       -8.17926042e-03, -1.73477575e-01,  1.03767693e-01, -7.89336637e-02,\n",
       "       -3.97640653e-03, -1.35015824e-03,  2.11512335e-02, -1.59017995e-01,\n",
       "        1.83615535e-02,  3.40211368e-03,  3.37740518e-02, -7.36168176e-02,\n",
       "        1.64607505e-03,  2.36419290e-02,  1.25774257e-02, -1.26344841e-02,\n",
       "        7.72454813e-02,  8.66943970e-02, -1.75137203e-02,  4.15405398e-03,\n",
       "        7.46792555e-02, -2.60252561e-02, -1.11188805e-02,  2.16082428e-02,\n",
       "       -8.37049857e-02,  2.73499712e-02, -1.34544494e-02, -2.44980073e-03,\n",
       "        4.03113775e-02, -2.27804724e-02, -2.08231565e-02,  5.72956121e-03,\n",
       "       -7.19641820e-02, -1.04785408e-03, -3.92183550e-02, -2.04335302e-02,\n",
       "        4.77338471e-02,  5.52222207e-02, -5.83838997e-03,  1.13948863e-02,\n",
       "        7.68880993e-02,  8.61132219e-02, -7.91094601e-02, -4.56987172e-02,\n",
       "       -2.54609063e-02, -2.27903780e-02,  1.36378529e-02, -9.96619090e-03,\n",
       "        3.78083438e-02,  2.55446117e-02, -7.53576308e-03,  5.89483939e-02,\n",
       "        1.70016382e-02, -6.72248453e-02, -1.54566558e-04, -7.88459647e-03,\n",
       "       -9.03316662e-02,  9.71791819e-02, -4.37175995e-03, -1.87758710e-02,\n",
       "        1.72962025e-02,  5.45436554e-02,  6.73735142e-02,  4.26027179e-03,\n",
       "        5.99251688e-02,  4.42164764e-02, -4.15713293e-03, -4.94832061e-02,\n",
       "       -4.07310203e-02,  2.16388255e-02, -3.85335609e-02,  6.85139187e-03,\n",
       "       -1.12921270e-02, -1.31426025e-02,  3.47256064e-02, -7.35983849e-02,\n",
       "       -2.60198992e-02,  1.04566552e-01,  6.88892007e-02, -7.53631443e-02,\n",
       "       -2.73450706e-02, -7.64816161e-03,  3.05899163e-03,  3.52989859e-03,\n",
       "       -8.94939378e-02,  5.57152517e-02,  1.63308475e-02, -8.11394397e-03,\n",
       "       -6.88520074e-02,  7.69841345e-03,  5.48425056e-02,  6.67854166e-03,\n",
       "        3.84771451e-02,  7.56184803e-03,  2.99752261e-02, -3.80526707e-02,\n",
       "       -8.31629634e-02, -3.16758640e-02,  1.58958752e-02, -1.78752169e-02,\n",
       "       -4.24817242e-02,  1.31743640e-01,  3.26761864e-02,  4.70778868e-02,\n",
       "       -4.76461686e-02,  2.93440092e-02, -1.01897866e-01,  5.44615136e-03,\n",
       "        2.40762290e-02, -1.31937742e-01, -4.38232198e-02, -7.29818617e-34,\n",
       "        1.57057438e-02,  1.74686108e-02, -8.27048346e-02,  5.31619489e-02,\n",
       "        3.70461717e-02,  2.55803321e-03,  2.42877994e-02,  3.47251333e-02,\n",
       "       -8.38747323e-02,  1.73014943e-02, -8.64228886e-03,  3.10327075e-02,\n",
       "        2.88479161e-02,  2.52740607e-02,  6.37789816e-02, -8.22195336e-02,\n",
       "       -2.54480429e-02, -1.14025427e-02,  3.74916941e-02, -3.98267321e-02,\n",
       "        2.32933108e-02, -4.03737947e-02,  1.41131021e-02, -3.05381995e-02,\n",
       "        2.68128905e-02,  4.35992070e-02, -2.15915646e-02,  4.47920710e-02,\n",
       "        1.20549537e-01, -5.55900019e-03,  2.99729742e-02, -2.63508167e-02,\n",
       "       -1.47602171e-01, -4.47401330e-02,  2.93954872e-02, -2.56819203e-02,\n",
       "        6.57520862e-03,  6.37299642e-02,  8.56740475e-02,  2.07810439e-02,\n",
       "       -4.30587046e-02,  6.57361075e-02,  1.47066107e-02,  2.09369119e-02,\n",
       "        1.02177588e-02, -2.42113080e-02,  8.83562714e-02,  2.59673987e-02,\n",
       "        6.94888830e-02, -3.20545733e-02, -1.19677475e-02, -2.78876014e-02,\n",
       "        5.18886670e-02, -3.27134579e-02, -3.97905782e-02,  4.74685319e-02,\n",
       "        6.54186830e-02, -8.13995227e-02,  8.15013610e-03, -2.94354111e-02,\n",
       "       -2.27934048e-02,  2.37046464e-04, -7.11244345e-03, -2.93421447e-02,\n",
       "       -6.25420287e-02, -5.68609349e-02,  1.72020588e-02, -2.09131595e-02,\n",
       "        1.35787830e-01,  2.30525378e-02, -5.01388982e-02, -5.48531152e-02,\n",
       "        2.22599483e-03,  3.86347435e-02, -1.16263740e-02,  4.81400378e-02,\n",
       "        3.96810379e-03, -4.59699007e-03, -5.57730310e-02,  5.53140789e-02,\n",
       "       -1.23834364e-01, -1.96735132e-02, -4.02632728e-02, -1.40706282e-02,\n",
       "        3.10694873e-02,  4.26997654e-02, -3.16187777e-02, -1.21173169e-02,\n",
       "       -1.25086319e-03,  4.90037352e-02,  4.05156463e-02,  3.96085903e-02,\n",
       "       -4.54628430e-02,  8.40985700e-02,  5.69762513e-02, -2.21253512e-33,\n",
       "        2.07695160e-02,  2.18937900e-02, -1.07451364e-01,  7.66359910e-04,\n",
       "        4.94049415e-02,  7.31157372e-03,  8.82294923e-02,  3.42982039e-02,\n",
       "       -2.16306536e-03,  3.28179635e-02,  4.10605520e-02, -4.31813598e-02,\n",
       "       -4.61534671e-02, -4.38367063e-03, -2.05240138e-02, -1.59604531e-02,\n",
       "       -1.25610665e-03,  7.79625634e-03, -2.57532764e-02,  4.13052067e-02,\n",
       "       -9.93342046e-03, -5.04998863e-02, -6.42911643e-02, -4.31161337e-02,\n",
       "        6.95189908e-02,  2.16007121e-02,  3.87818962e-02, -2.33125128e-02,\n",
       "        6.07120954e-02,  1.26148928e-02,  2.57023498e-02, -2.71179248e-02,\n",
       "       -8.66504386e-02,  2.38561686e-02, -2.75213104e-02,  1.52475396e-02,\n",
       "        2.20573395e-02, -5.90742715e-02,  4.28196788e-02,  7.66934827e-02,\n",
       "        1.05941057e-01, -7.49799749e-03, -8.56610462e-02,  7.83084035e-02,\n",
       "        1.31735839e-02,  3.63492183e-02,  3.66759375e-02,  1.30769759e-01,\n",
       "       -4.76853661e-02, -1.32191941e-01,  8.29360336e-02,  5.93566224e-02,\n",
       "        6.19388297e-02, -2.20504459e-02,  1.27258599e-01,  2.57858485e-02,\n",
       "        5.19438349e-02, -3.63016874e-02, -4.53175120e-02,  4.23423201e-02,\n",
       "        5.64600937e-02, -3.70869460e-03,  1.02920868e-01,  3.59769836e-02,\n",
       "       -7.45109692e-02, -1.53919412e-02,  9.65933967e-03,  7.55750984e-02,\n",
       "       -1.37095898e-02, -4.69628870e-02,  2.31847111e-02,  3.89977396e-02,\n",
       "        2.11161543e-02, -1.04840860e-01, -6.19866028e-02,  1.09485937e-02,\n",
       "       -3.40214297e-02,  4.76264320e-02, -1.89115833e-02, -2.21365171e-05,\n",
       "       -2.61966214e-02,  3.75398025e-02, -4.79869209e-02, -4.16233093e-02,\n",
       "       -2.08213348e-02, -1.64804589e-02,  6.84373006e-02, -5.38822822e-02,\n",
       "       -4.90801632e-02, -5.55261709e-02, -1.12067170e-01,  2.23490279e-02,\n",
       "        2.18163524e-02,  2.19608229e-02, -8.31233934e-02, -3.94138233e-08,\n",
       "       -6.80442993e-03, -4.00727727e-02, -9.18496121e-03, -1.14726124e-03,\n",
       "       -2.98125874e-02,  4.28151973e-02, -2.50157565e-02, -1.51590537e-02,\n",
       "        9.70680639e-03, -3.90454456e-02, -1.08565293e-01, -4.53379378e-02,\n",
       "       -2.71993708e-02, -5.57303568e-03,  9.58439708e-02,  2.07421519e-02,\n",
       "        1.65612288e-02, -1.73790660e-02,  3.50154191e-03,  2.70147584e-02,\n",
       "        1.51986793e-01, -3.04615330e-02, -6.37601167e-02, -1.02913957e-02,\n",
       "       -4.96237772e-03,  2.38811411e-02,  1.57570932e-02, -4.40748855e-02,\n",
       "       -3.65714021e-02,  6.22722544e-02, -3.37429941e-02,  2.71424651e-04,\n",
       "       -3.29556242e-02, -6.25641048e-02,  3.68874520e-02, -6.24578446e-02,\n",
       "        3.35401483e-02, -1.57376542e-03,  7.05740452e-02, -9.07567069e-02,\n",
       "       -6.38336167e-02, -1.32817924e-02,  1.62252877e-02,  1.19078020e-02,\n",
       "       -2.33459007e-02,  6.70006219e-03,  2.96706962e-03,  7.98117518e-02,\n",
       "       -1.70717258e-02, -4.46589431e-04, -6.25459403e-02,  3.21224844e-03,\n",
       "       -4.74603809e-02,  4.36685327e-03,  1.79343931e-02,  3.31292104e-04,\n",
       "        3.90209518e-02, -9.95922834e-02, -1.44678392e-02,  1.17927743e-02,\n",
       "       -6.51196390e-02, -2.45335116e-03,  4.76500951e-03, -2.09544506e-02])"
      ]
     },
     "execution_count": 10,
     "metadata": {},
     "output_type": "execute_result"
    }
   ],
   "source": [
    "sample_embedding"
   ]
  },
  {
   "cell_type": "code",
   "execution_count": null,
   "id": "aa976de2",
   "metadata": {},
   "outputs": [
    {
     "name": "stderr",
     "output_type": "stream",
     "text": [
      "d:\\B3\\Internship\\Project\\Chat Model\\venv\\Lib\\site-packages\\huggingface_hub\\file_download.py:143: UserWarning: `huggingface_hub` cache-system uses symlinks by default to efficiently store duplicated files but your machine does not support them in C:\\Users\\DELL\\.cache\\huggingface\\hub\\models--google--flan-t5-base. Caching files will still work but in a degraded version that might require more space on your disk. This warning can be disabled by setting the `HF_HUB_DISABLE_SYMLINKS_WARNING` environment variable. For more details, see https://huggingface.co/docs/huggingface_hub/how-to-cache#limitations.\n",
      "To support symlinks on Windows, you either need to activate Developer Mode or to run Python as an administrator. In order to activate developer mode, see this article: https://docs.microsoft.com/en-us/windows/apps/get-started/enable-your-device-for-development\n",
      "  warnings.warn(message)\n",
      "Xet Storage is enabled for this repo, but the 'hf_xet' package is not installed. Falling back to regular HTTP download. For better performance, install the package with: `pip install huggingface_hub[hf_xet]` or `pip install hf_xet`\n",
      "Xet Storage is enabled for this repo, but the 'hf_xet' package is not installed. Falling back to regular HTTP download. For better performance, install the package with: `pip install huggingface_hub[hf_xet]` or `pip install hf_xet`\n",
      "Device set to use cpu\n",
      "C:\\Users\\DELL\\AppData\\Local\\Temp\\ipykernel_3368\\3862460656.py:5: LangChainDeprecationWarning: The class `HuggingFacePipeline` was deprecated in LangChain 0.0.37 and will be removed in 1.0. An updated version of the class exists in the :class:`~langchain-huggingface package and should be used instead. To use it run `pip install -U :class:`~langchain-huggingface` and import as `from :class:`~langchain_huggingface import HuggingFacePipeline``.\n",
      "  llm = HuggingFacePipeline(pipeline=pipe)\n"
     ]
    }
   ],
   "source": [
    "\n",
    "model_id = \"google/flan-t5-base\"\n",
    "tokenizer = AutoTokenizer.from_pretrained(model_id)\n",
    "model = AutoModelForSeq2SeqLM.from_pretrained(model_id)\n",
    "pipe = pipeline(\"text2text-generation\", model=model, tokenizer=tokenizer, max_new_tokens=256)\n",
    "llm = HuggingFacePipeline(pipeline=pipe)\n"
   ]
  },
  {
   "cell_type": "code",
   "execution_count": null,
   "id": "e3203c79",
   "metadata": {},
   "outputs": [
    {
     "name": "stderr",
     "output_type": "stream",
     "text": [
      "C:\\Users\\DELL\\AppData\\Local\\Temp\\ipykernel_3368\\2625195981.py:1: LangChainDeprecationWarning: Please see the migration guide at: https://python.langchain.com/docs/versions/migrating_memory/\n",
      "  memory = ConversationBufferMemory(memory_key=\"chat_history\", return_messages=True)\n"
     ]
    }
   ],
   "source": [
    "\n",
    "memory = ConversationBufferMemory(memory_key=\"chat_history\", return_messages=True)\n",
    "\n",
    "prompt_template = PromptTemplate.from_template(\n",
    "    \"Context: {context}\\n\\nQuestion: {question}\\n\\nAnswer:\"\n",
    ")\n",
    "\n",
    "conversation_chain = ConversationalRetrievalChain.from_llm(\n",
    "    llm=llm,\n",
    "    retriever=retriever,\n",
    "    memory=memory,\n",
    "    combine_docs_chain_kwargs={\"prompt\": prompt_template}\n",
    ")\n"
   ]
  },
  {
   "cell_type": "code",
   "execution_count": null,
   "id": "6b5600fd",
   "metadata": {},
   "outputs": [
    {
     "name": "stdout",
     "output_type": "stream",
     "text": [
      "Bot: ict_dept@usth.edu.vn\n"
     ]
    }
   ],
   "source": [
    "\n",
    "# Chat với hệ thống\n",
    "query = \"i only need email of ICT department\"\n",
    "response = conversation_chain.run(query)\n",
    "print(\"Bot:\", response)\n"
   ]
  }
 ],
 "metadata": {
  "kernelspec": {
   "display_name": "venv",
   "language": "python",
   "name": "python3"
  },
  "language_info": {
   "codemirror_mode": {
    "name": "ipython",
    "version": 3
   },
   "file_extension": ".py",
   "mimetype": "text/x-python",
   "name": "python",
   "nbconvert_exporter": "python",
   "pygments_lexer": "ipython3",
   "version": "3.12.2"
  }
 },
 "nbformat": 4,
 "nbformat_minor": 5
}
